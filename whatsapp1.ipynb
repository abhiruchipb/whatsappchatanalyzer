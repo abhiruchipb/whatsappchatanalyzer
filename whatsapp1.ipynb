{
  "nbformat": 4,
  "nbformat_minor": 0,
  "metadata": {
    "colab": {
      "provenance": [],
      "authorship_tag": "ABX9TyNI2WxhNmabShd40kt7FS4k",
      "include_colab_link": true
    },
    "kernelspec": {
      "name": "python3",
      "display_name": "Python 3"
    },
    "language_info": {
      "name": "python"
    }
  },
  "cells": [
    {
      "cell_type": "markdown",
      "metadata": {
        "id": "view-in-github",
        "colab_type": "text"
      },
      "source": [
        "<a href=\"https://colab.research.google.com/github/abhiruchipb/whatsappchatanalyzer/blob/main/whatsapp1.ipynb\" target=\"_parent\"><img src=\"https://colab.research.google.com/assets/colab-badge.svg\" alt=\"Open In Colab\"/></a>"
      ]
    },
    {
      "cell_type": "code",
      "execution_count": null,
      "metadata": {
        "id": "ZZRv7c_1Gn9L"
      },
      "outputs": [],
      "source": [
        "import re\n",
        "import emoji\n",
        "from collections import Counter\n"
      ]
    },
    {
      "cell_type": "code",
      "source": [
        "!pip install emoji"
      ],
      "metadata": {
        "colab": {
          "base_uri": "https://localhost:8080/"
        },
        "id": "bfGxkg7NJHsE",
        "outputId": "0b44741f-8372-48c0-ffc1-69531497dd1b"
      },
      "execution_count": null,
      "outputs": [
        {
          "output_type": "stream",
          "name": "stdout",
          "text": [
            "Collecting emoji\n",
            "  Downloading emoji-2.14.1-py3-none-any.whl.metadata (5.7 kB)\n",
            "Downloading emoji-2.14.1-py3-none-any.whl (590 kB)\n",
            "\u001b[2K   \u001b[90m━━━━━━━━━━━━━━━━━━━━━━━━━━━━━━━━━━━━━━━━\u001b[0m \u001b[32m590.6/590.6 kB\u001b[0m \u001b[31m7.5 MB/s\u001b[0m eta \u001b[36m0:00:00\u001b[0m\n",
            "\u001b[?25hInstalling collected packages: emoji\n",
            "Successfully installed emoji-2.14.1\n"
          ]
        }
      ]
    },
    {
      "cell_type": "code",
      "source": [
        "def load_stopwords(file_path):\n",
        "    with open(file_path, 'r', encoding='utf-8') as f:\n",
        "        return set(f.read().splitlines())"
      ],
      "metadata": {
        "id": "NbrXrcYSJGp3"
      },
      "execution_count": null,
      "outputs": []
    },
    {
      "cell_type": "code",
      "source": [
        "def preprocess_chat(file_path, stopwords_file):\n",
        "    stopwords = load_stopwords(stopwords_file)\n",
        "    user_messages = Counter()\n",
        "    user_first_texts = Counter()\n",
        "    word_counter = Counter()\n",
        "    emoji_counter = Counter()\n",
        "\n",
        "    with open(file_path, 'r', encoding='utf-8') as f:\n",
        "        lines = f.readlines()\n",
        "\n",
        "    cleaned_messages = []\n",
        "    message_pattern = re.compile(r'(\\d{1,2}/\\d{1,2}/\\d{2,4}, \\d{1,2}:\\d{2}) - (.*?): (.*)')\n",
        "    system_messages = [\"Messages and calls are end-to-end encrypted\", \"media omitted\", \"changed the subject\"]\n",
        "\n",
        "    last_date = None\n",
        "    for line in lines:\n",
        "        match = message_pattern.match(line)\n",
        "        if match:\n",
        "            timestamp, user, message = match.groups()\n",
        "            date = timestamp.split(',')[0]\n",
        "\n",
        "            if any(sys_msg in message.lower() for sys_msg in system_messages):\n",
        "                continue  # Skip system messages\n",
        "\n",
        "            user_messages[user] += 1\n",
        "            words = re.findall(r'\\b\\w+\\b', message.lower())\n",
        "            words = [word for word in words if word not in stopwords]\n",
        "            word_counter.update(words)\n",
        "\n",
        "            emojis = [char for char in message if char in emoji.EMOJI_DATA]\n",
        "            emoji_counter.update(emojis)\n",
        "\n",
        "            cleaned_messages.append((timestamp, user, \" \".join(words)))\n",
        "\n",
        "            if date != last_date:\n",
        "                user_first_texts[user] += 1\n",
        "                last_date = date\n",
        "\n",
        "    total_messages = sum(user_messages.values())\n",
        "    user_percentages = {user: round((count / total_messages) * 100, 2) for user, count in user_messages.items()}\n",
        "    most_common_words = [word for word, _ in word_counter.most_common(5)]\n",
        "    most_common_emojis = [emoji for emoji, _ in emoji_counter.most_common(5)]\n",
        "    most_first_texts_user = max(user_first_texts, key=user_first_texts.get, default=None)\n",
        "\n",
        "    return user_percentages, most_common_words, most_common_emojis, most_first_texts_user\n"
      ],
      "metadata": {
        "id": "PUaWrK5fJPk6"
      },
      "execution_count": null,
      "outputs": []
    },
    {
      "cell_type": "code",
      "source": [
        "\n",
        "# Usage\n",
        "chat_file = \"WhatsApp Chat with batman.txt\"\n",
        "stopwords_file = \"stopwords.txt\"\n",
        "user_percentages, most_common_words, most_common_emojis, most_first_texts_user = preprocess_chat(chat_file, stopwords_file)\n",
        "\n",
        "print(\"User Activity Percentages:\")\n",
        "for user, percentage in user_percentages.items():\n",
        "    print(f\"{user}: {percentage}%\")\n",
        "print(\"Most Common Words:\", most_common_words)\n",
        "print(\"Most Used Emojis:\", most_common_emojis)\n",
        "print(\"User Who Texts First the Most:\", most_first_texts_user)"
      ],
      "metadata": {
        "colab": {
          "base_uri": "https://localhost:8080/"
        },
        "id": "L7Y01A2kJSPB",
        "outputId": "0e1ac040-3900-4717-8326-cc5f88c84b3c"
      },
      "execution_count": null,
      "outputs": [
        {
          "output_type": "stream",
          "name": "stdout",
          "text": [
            "User Activity Percentages:\n",
            "batman: 46.9%\n",
            "abhiruchi patil bhagat: 53.1%\n",
            "Most Common Words: ['https', 'honey', 'morning', 'pookie', 'don']\n",
            "Most Used Emojis: ['😭', '🥹', '🏼', '😘', '🫶']\n",
            "User Who Texts First the Most: abhiruchi patil bhagat\n"
          ]
        }
      ]
    },
    {
      "cell_type": "code",
      "source": [],
      "metadata": {
        "id": "NiC6CWxQJU9Q"
      },
      "execution_count": null,
      "outputs": []
    }
  ]
}